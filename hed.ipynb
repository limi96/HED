{
 "cells": [
  {
   "cell_type": "code",
   "execution_count": null,
   "metadata": {},
   "outputs": [],
   "source": [
    "import cv2\n",
    "import os\n",
    "from pathlib import Path\n",
    "\n",
    "class CropLayer(object):\n",
    "    def __init__(self, params, blobs):\n",
    "        self.startX = 0\n",
    "        self.startY = 0\n",
    "        self.endX = 0\n",
    "        self.endY = 0\n",
    "\n",
    "    def getMemoryShapes(self, inputs):\n",
    "        (inputShape, targetShape) = (inputs[0], inputs[1])\n",
    "        (batchSize, numChannels) = (inputShape[0], inputShape[1])\n",
    "        (H, W) = (targetShape[2], targetShape[3])\n",
    "\n",
    "        self.startX = int((inputShape[3] - targetShape[3]) / 2)\n",
    "        self.startY = int((inputShape[2] - targetShape[2]) / 2)\n",
    "        self.endX = self.startX + W\n",
    "        self.endY = self.startY + H\n",
    "\n",
    "        return [[batchSize, numChannels, H, W]]\n",
    "\n",
    "    def forward(self, inputs):\n",
    "        return [inputs[0][:, :, self.startY:self.endY,\n",
    "                self.startX:self.endX]]\n",
    "\n",
    "# Original paper on HED: https://arxiv.org/pdf/1504.06375.pdf\n",
    "# Author's github: https://github.com/s9xie/hed\n",
    "\n",
    "def initialize():\n",
    "    protoPath = \"hed_trained_model/deploy.prototxt\"\n",
    "    modelPath = \"hed/hed_pretrained_bsds.caffemodel\"\n",
    "\n",
    "    protoPath = str(Path(\"hed_trained_model\", \"deploy.prototxt\"))\n",
    "    modelPath = str(Path(\"hed_trained_model\", \"hed_pretrained_bsds.caffemodel\"))\n",
    "\n",
    "    net = cv2.dnn.readNetFromCaffe(protoPath, modelPath)\n",
    "    cv2.dnn_registerLayer(\"Crop\", CropLayer) # Line that causes the Kernel to crash if run twice\n",
    "    return net\n",
    "\n",
    "\n",
    "def get_all_file_paths(folder_path):\n",
    "  all_files = []\n",
    "  for root, directories, files in os.walk(folder_path):\n",
    "    for filename in files:\n",
    "      absolute_path = os.path.join(root, filename)\n",
    "      all_files.append((absolute_path, filename))\n",
    "\n",
    "\n",
    "  return all_files"
   ]
  },
  {
   "cell_type": "code",
   "execution_count": 4,
   "metadata": {},
   "outputs": [],
   "source": [
    "# ONLY RUN THIS ONCE! RUNNING MULTIPLE TIMES WILL RESLT IN ERROR \n",
    "net = initialize()"
   ]
  },
  {
   "cell_type": "markdown",
   "metadata": {},
   "source": [
    "# Specify the file location\n",
    "\n",
    "Please make sure these folders exist already in the project root before executing the \"Perform HED\" code.\n",
    "Otherwise, you'll either encounter an error, or the program won't save any of the images"
   ]
  },
  {
   "cell_type": "code",
   "execution_count": 6,
   "metadata": {},
   "outputs": [
    {
     "name": "stdout",
     "output_type": "stream",
     "text": [
      "Current files in the folder: [('example\\\\IMG_5805.JPG', 'IMG_5805.JPG'), ('example\\\\IMG_5806.JPG', 'IMG_5806.JPG'), ('example\\\\IMG_5807.JPG', 'IMG_5807.JPG'), ('example\\\\IMG_5810.JPG', 'IMG_5810.JPG'), ('example\\\\IMG_5811.JPG', 'IMG_5811.JPG'), ('example\\\\IMG_5812.JPG', 'IMG_5812.JPG'), ('example\\\\IMG_5813.JPG', 'IMG_5813.JPG'), ('example\\\\IMG_5814.JPG', 'IMG_5814.JPG'), ('example\\\\IMG_5815.JPG', 'IMG_5815.JPG'), ('example\\\\IMG_5816.JPG', 'IMG_5816.JPG'), ('example\\\\IMG_5817.JPG', 'IMG_5817.JPG'), ('example\\\\IMG_5818.JPG', 'IMG_5818.JPG')]\n"
     ]
    }
   ],
   "source": [
    "input_folder  = str(Path('input_folder'))           # Name of the folder containing photos\n",
    "output_folder = str(Path('output_folder'))          # Name of the folder where processed images are saved\n",
    "                                                    # The \"output_folder\" has to be manually created, otherwise images won't be saved\n",
    "file_list = get_all_file_paths(input_folder)             \n",
    "print(\"Current files in the folder:\", file_list)   "
   ]
  },
  {
   "cell_type": "markdown",
   "metadata": {},
   "source": [
    "# Perform HED\n",
    "\n",
    "The following code will perform HED on all of the images specified in the folder \"input_folder\".\n",
    "\n",
    "Note that this process is quite CPU / GPU intensive. If run on a low end computer, the CPU might overheat and shutdown (blue screen) if the CPU is overclocked.\n",
    "By default all computers are NOT overclocked, so this is in most cases not a concern."
   ]
  },
  {
   "cell_type": "code",
   "execution_count": null,
   "metadata": {},
   "outputs": [],
   "source": [
    "import time\n",
    "\n",
    "for absolute_path, filename in file_list: \n",
    "\n",
    "    image = cv2.imread(absolute_path)\n",
    "    height, width = image.shape[:2]\n",
    "\n",
    "    mean_input = (95, 120, 125)\n",
    "    blob = cv2.dnn.blobFromImage(image, scalefactor=1, size=(width, height),\n",
    "                                mean=mean_input,\n",
    "                                swapRB= False, crop=False)\n",
    "\n",
    "    net.setInput(blob)\n",
    "    hed = net.forward()\n",
    "    hed = hed[0,0,:,:]\n",
    "    hed = (255 * hed).astype(\"uint8\")  #rescale to 0-255\n",
    "\n",
    "    binary_image = cv2.threshold(hed, 0, 255, cv2.THRESH_OTSU)[1]\n",
    "    \n",
    "    output_path = str(Path(output_folder, f\"HED_{filename}\"))\n",
    "    print(\"Processing done with:\" f\"{output_path}\")\n",
    "    cv2.imwrite(f\"{output_path}\", binary_image)\n",
    "    time.sleep(1)       # This will set a pause for 1 second \n",
    "    break"
   ]
  }
 ],
 "metadata": {
  "kernelspec": {
   "display_name": "Python 3",
   "language": "python",
   "name": "python3"
  },
  "language_info": {
   "codemirror_mode": {
    "name": "ipython",
    "version": 3
   },
   "file_extension": ".py",
   "mimetype": "text/x-python",
   "name": "python",
   "nbconvert_exporter": "python",
   "pygments_lexer": "ipython3",
   "version": "3.11.4"
  }
 },
 "nbformat": 4,
 "nbformat_minor": 2
}
